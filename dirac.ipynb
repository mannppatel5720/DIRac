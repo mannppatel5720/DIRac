{
 "cells": [
  {
   "cell_type": "code",
   "execution_count": 1,
   "id": "feed7cd4",
   "metadata": {},
   "outputs": [],
   "source": [
    "import sympy as sym \n",
    "import math\n",
    "import cmath\n",
    "import cython as cp\n",
    "import numpy as np\n",
    "import pytearcat as pt\n",
    "from sympy import *\n",
    "from sympy.physics import *\n",
    "from sympy.tensor.tensor import *\n",
    "from sympy import *\n",
    "from sympy.diffgeom import *\n",
    "from sympy.diffgeom.rn import *\n",
    "import numpy as np\n",
    "from itertools import permutations"
   ]
  },
  {
   "cell_type": "code",
   "execution_count": null,
   "id": "de0fd16a-5807-47c3-9ca7-cf36fbfebcf7",
   "metadata": {},
   "outputs": [],
   "source": []
  },
  {
   "cell_type": "code",
   "execution_count": 2,
   "id": "b34a50f8",
   "metadata": {},
   "outputs": [],
   "source": [
    "t, x, y, z = symbols('t x y z', real=True)\n",
    "\n",
    "TP = TensorProduct\n",
    "tp = tensorproduct\n",
    "tc = tensorcontraction\n",
    "\n",
    "GR4 = Manifold('R^4', 4)\n",
    "GR4_origin = Patch('origin', GR4)\n",
    "GR4_r = CoordSystem('rectangular', GR4_origin, symbols('t x y z', real=True))\n",
    "\n",
    "t, x, y, z,  = [ Dummy (s) for s in\n",
    "               ['t', 'x', 'y', 'z']]"
   ]
  },
  {
   "cell_type": "code",
   "execution_count": 3,
   "id": "30b7779e-354f-4a47-a6e1-e2022cba919a",
   "metadata": {},
   "outputs": [],
   "source": [
    "GR4_r.t, GR4_r.x, GR4_r.y, GR4_r.z = GR4_r.coord_functions()\n",
    "\n",
    "GR4_r.e_t, GR4_r.e_x, GR4_r.e_y, GR4_r.e_z = GR4_r.base_vectors()\n",
    "\n",
    "GR4_r.dt, GR4_r.dx, GR4_r.dy, GR4_r.dz = GR4_r.base_oneforms()\n",
    "\n",
    "t, x, y, z = GR4_r.symbols"
   ]
  },
  {
   "cell_type": "code",
   "execution_count": 4,
   "id": "b36fbfbf-0899-4b6f-a96f-9c91c749b70d",
   "metadata": {},
   "outputs": [],
   "source": [
    "def lower_indices (T, expr, changes):\n",
    "    metric = twoform_to_matrix(expr)\n",
    "\n",
    "    N = T.rank ()\n",
    "    lis = list (range(len(changes), N))\n",
    "    em = []\n",
    "    k = len(changes)-1\n",
    "    l = 0\n",
    "\n",
    "    for j in range (N) :\n",
    "        if j in changes :\n",
    "            em.append (k)\n",
    "            k -= 1\n",
    "        else:\n",
    "            em.append(lis[l])\n",
    "            l += 1\n",
    "\n",
    "    new_order = tuple (em)\n",
    "\n",
    "    lowered = T\n",
    "\n",
    "    for i in changes :\n",
    "         lowered = tc(tp(metric, lowered), (0, i +2))\n",
    "\n",
    "    lowered = permutedims(lowered, new_order)\n",
    "\n",
    "    return lowered\n",
    "\n",
    "def raise_indices (T, expr, changes):\n",
    "    coord_sys = expr.atoms(CoordSystem).pop()\n",
    "    indices = list(range(coord_sys.dim))\n",
    "    matrix = twoform_to_matrix(expr)\n",
    "    s_fields = set()\n",
    "    for e in matrix :\n",
    "        s_fields.update (e.atoms(BaseScalarField))\n",
    "    s_fields = list (s_fields)\n",
    "    dums = coord_sys._dummies\n",
    "    invmetric = matrix.subs(list(zip(s_fields, dums))).inv().subs(list(zip(dums, s_fields)))\n",
    "    N = T.rank()\n",
    "    lis = list(range(len(changes), N))\n",
    "    em = []\n",
    "    k = len(changes) -1\n",
    "    l = 0\n",
    "\n",
    "    for j in range(N):\n",
    "        if j in changes:\n",
    "           em.append(k)\n",
    "           k -= 1\n",
    "        else:\n",
    "            em.append(lis[l])\n",
    "            l += 1\n",
    "\n",
    "    new_order = tuple(em)\n",
    "\n",
    "    raised = T\n",
    "\n",
    "    for i in changes:\n",
    "        raised = tc(tp(invmetric, raised), (0, i +2))\n",
    "\n",
    "        raised = permutedims(raised, new_order)\n",
    "\n",
    "    return raised\n",
    "\n",
    "\n",
    "def simplify_array(A, d):\n",
    "    R = A.rank ()\n",
    "    F = flatten(A)\n",
    "    for i in range (len(F)):\n",
    "        F[i] = simplify(F[i])\n",
    "    t = tuple([d]* R)\n",
    "    R = (Array(F, (d,)*R))\n",
    "\n",
    "    return R\n",
    "\n",
    "\n",
    "def Kulkarni_Nomizu_product(A, B):\n",
    "    AB = tp(A, B)\n",
    "    out = permutedims (AB, (0,2,1,3)) + permutedims (AB, (1,3,0,2)) -\\\n",
    "               permutedims (AB, (0,3,1,2)) - permutedims (AB, (1,2,0,3))\n",
    "    return out\n",
    "\n",
    "\n",
    "def print_components(T, d):\n",
    "    perms = list(set(permutations(np.repeat(range(d),T.rank()),T.rank())))\n",
    "    for perm in perms :\n",
    "        print(perm, factor(T[perm]))\n",
    "\n",
    "def partial_derivative(T, expr):\n",
    "    coord_sys = expr.atoms(CoordSystem).pop()\n",
    "    indices = list (range(coord_sys.dim))\n",
    "\n",
    "    diffd = [T.applyfunc( lambda a: d(a))\n",
    "                for d in coord_sys.base_vectors()]\n",
    "    diffd = (Array(diffd, (coord_sys.dim,)*(T.rank() +1)))\n",
    "\n",
    "    return ImmutableDenseNDimArray(diffd)\n",
    "\n",
    "def covariant_derivative(T, expr, n_up):\n",
    "    Ch = metric_to_Christoffel_2nd(expr)\n",
    "    PD = partial_derivative(T, expr)\n",
    "    for i in range (n_up):\n",
    "        PD += tc(tp(Ch , T), (2, (3+ i )))\n",
    "    for i in range (T.rank() - n_up):\n",
    "        PD -= tc( tp(Ch, T), (0, (i +3+ n_up)))\n",
    "    return ImmutableDenseNDimArray((PD))\n",
    "\n",
    "\n",
    "def Lie_derivative_covariant(X, T, expr, n_up):\n",
    "    LD = tc(tp(X, covariant_derivative (T, expr, n_up)), (0 ,1))\n",
    "    for j in range (n_up):\n",
    "         LD -= tc(tp(covariant_derivative (X, expr, 1), T) ,(0 ,2+ j))\n",
    "    for j in range (T.rank()-n_up):\n",
    "         LD += tc(tp(covariant_derivative (X, expr, 1), T), (1 ,3+ n_up + j))\n",
    "    return LD\n",
    "\n",
    "\n",
    "def Lie_derivative_partial (X, T, expr, n_up):\n",
    "    LD = tc(tp(X, partial_derivative(T, expr)), (0,1))\n",
    "    print(LD)\n",
    "    for j in range (n_up):\n",
    "        LD -= tc(tp(partial_derivative (X, expr), T),(0,2+ j))\n",
    "    for j in range (T.rank() - n_up):\n",
    "        LD += tc(tp(partial_derivative (X, expr), T), (1,3+ n_up +j))\n",
    "    return LD"
   ]
  },
  {
   "cell_type": "code",
   "execution_count": 5,
   "id": "7e3c319d-32b7-4490-a336-aeff9312a1b7",
   "metadata": {},
   "outputs": [],
   "source": [
    "def metric_to_Ricci_scalar(expr):\n",
    "    ricci = metric_to_Ricci_components(expr)\n",
    "    \n",
    "    scalar = tc(raise_indices(ricci, expr, (0,)), (0,1))\n",
    "    \n",
    "    return scalar\n",
    "def metric_to_torsion_components(expr):\n",
    "    Ch2 = metric_to_Christoffel_2nd(expr)\n",
    "    \n",
    "    torsion = Ch2 - permutedims(Ch2, (0,2,1))\n",
    "    \n",
    "    return ImmutableDenseNDimArray (torsion)\n",
    "def metric_to_contorsion_components(expr):\n",
    "    tor = lower_indices ( metric_to_torsion_components ( expr ) , expr , (0 ,) )\n",
    "    \n",
    "    cont2 = tor - permutedims(tor, (1,2,0)) + permutedims(tor, (2,0,1))\n",
    "    cont = tp(Rational(1,2), cont2)\n",
    "    \n",
    "    return ImmutableDenseNDimArray(cont)\n",
    "def metric_to_Einstein_components(expr):\n",
    "    ricci = metric_to_Ricci_components(expr)\n",
    "    metric = twoform_to_matrix(expr)\n",
    "    scalar = metric_to_Ricci_scalar(expr)\n",
    "    Rg = tp(Rational(1, 2), metric, scalar)\n",
    "    einstein = ricci - Rg\n",
    "\n",
    "    return ImmutableDenseNDimArray(einstein)\n",
    "\n",
    "\n",
    "def metric_to_Kretschmann_scalar(expr):\n",
    "    riemann = metric_to_Riemann_components (expr)\n",
    "\n",
    "    rie_low = lower_indices(riemann, expr, (0,))\n",
    "    rie_up = raise_indices(riemann, expr, (1,2,3))\n",
    "\n",
    "    kretschmann = tc(tc(tc(tc(tp(rie_low, rie_up),\n",
    "            (0,4)), (0,3)), (0,2)), (0,1))\n",
    "\n",
    "    return kretschmann"
   ]
  },
  {
   "cell_type": "code",
   "execution_count": 6,
   "id": "096af3c4",
   "metadata": {},
   "outputs": [],
   "source": [
    "i, n, m = symbols('i n m', integer=True)"
   ]
  },
  {
   "cell_type": "code",
   "execution_count": 7,
   "id": "37b95482",
   "metadata": {},
   "outputs": [],
   "source": [
    "phi, c, psi = symbols('phi c psi')"
   ]
  },
  {
   "cell_type": "code",
   "execution_count": 8,
   "id": "70e085ac",
   "metadata": {},
   "outputs": [],
   "source": [
    "i, j, k, l, m  = symbols('i j k l m', cls=Idx)"
   ]
  },
  {
   "cell_type": "code",
   "execution_count": 9,
   "id": "309dc14e",
   "metadata": {},
   "outputs": [],
   "source": [
    "\n",
    "S= Function('S')(GR4_r.t, GR4_r.x, GR4_r.y, GR4_r.z)"
   ]
  },
  {
   "cell_type": "code",
   "execution_count": 10,
   "id": "c41f278c",
   "metadata": {},
   "outputs": [],
   "source": [
    "A0= Function('A0')\n",
    "A1= Function('A1')\n",
    "A2= Function('A2')\n",
    "A3= Function('A3')\n",
    "A4= Function('A4')\n",
    "A5= Function('A5')"
   ]
  },
  {
   "cell_type": "code",
   "execution_count": 11,
   "id": "cfd11de2",
   "metadata": {},
   "outputs": [],
   "source": [
    "A=(A0, A1, A2, A3, A4, A5)\n",
    "indices = [0, 1, 2, 3]\n",
    "T= Array([GR4_r.dt])"
   ]
  },
  {
   "cell_type": "code",
   "execution_count": 12,
   "id": "d4b20b33",
   "metadata": {},
   "outputs": [],
   "source": [
    "phi = 0\n",
    "for k in indices:\n",
    "    m= exp(I*S*c**(2))*(A[k](GR4_r.t, GR4_r.x, GR4_r.y, GR4_r.z)*c**(-k))\n",
    "    phi = phi +m"
   ]
  },
  {
   "cell_type": "code",
   "execution_count": 13,
   "id": "48419ce3",
   "metadata": {},
   "outputs": [
    {
     "data": {
      "text/latex": [
       "$\\displaystyle \\left[\\begin{matrix}A_{0}{\\left(\\mathbf{t},\\mathbf{x},\\mathbf{y},\\mathbf{z} \\right)} e^{i c^{2} S{\\left(\\mathbf{t},\\mathbf{x},\\mathbf{y},\\mathbf{z} \\right)}} + \\frac{A_{1}{\\left(\\mathbf{t},\\mathbf{x},\\mathbf{y},\\mathbf{z} \\right)} e^{i c^{2} S{\\left(\\mathbf{t},\\mathbf{x},\\mathbf{y},\\mathbf{z} \\right)}}}{c} + \\frac{A_{2}{\\left(\\mathbf{t},\\mathbf{x},\\mathbf{y},\\mathbf{z} \\right)} e^{i c^{2} S{\\left(\\mathbf{t},\\mathbf{x},\\mathbf{y},\\mathbf{z} \\right)}}}{c^{2}} + \\frac{A_{3}{\\left(\\mathbf{t},\\mathbf{x},\\mathbf{y},\\mathbf{z} \\right)} e^{i c^{2} S{\\left(\\mathbf{t},\\mathbf{x},\\mathbf{y},\\mathbf{z} \\right)}}}{c^{3}} & 0 & 0 & 0\\end{matrix}\\right]$"
      ],
      "text/plain": [
       "[A0(t, x, y, z)*exp(I*c**2*S(t, x, y, z)) + A1(t, x, y, z)*exp(I*c**2*S(t, x, y, z))/c + A2(t, x, y, z)*exp(I*c**2*S(t, x, y, z))/c**2 + A3(t, x, y, z)*exp(I*c**2*S(t, x, y, z))/c**3, 0, 0, 0]"
      ]
     },
     "execution_count": 13,
     "metadata": {},
     "output_type": "execute_result"
    }
   ],
   "source": [
    "phi\n",
    "psi = Array([phi, 0, 0, 0])\n",
    "psi"
   ]
  },
  {
   "cell_type": "code",
   "execution_count": 14,
   "id": "39feebf8",
   "metadata": {},
   "outputs": [],
   "source": [
    "Lorentz = TensorIndexType('Lorentz', dummy_name='L', dim=4, eps_dim=4, metric_symmetry=0, metric_name='metric')\n",
    "mu = TensorIndex('mu', Lorentz, is_up=False)\n",
    "nu, rho = tensor_indices('nu, rho', Lorentz)\n",
    "B=TensorHead('B', [Lorentz])\n",
    "M = IndexedBase('M')\n",
    "repl = {Lorentz: diag(1, -1, -1, -1)}\n",
    "repl.update({B(mu): [t, x, y, z]})"
   ]
  },
  {
   "cell_type": "code",
   "execution_count": null,
   "id": "f81316ec-71b5-4cef-b4b1-d0fe9fe940b0",
   "metadata": {},
   "outputs": [],
   "source": []
  },
  {
   "cell_type": "code",
   "execution_count": 15,
   "id": "ab00f94f-caf9-4a42-90f1-f132dfc0a24d",
   "metadata": {
    "editable": true,
    "scrolled": true,
    "slideshow": {
     "slide_type": ""
    },
    "tags": []
   },
   "outputs": [
    {
     "data": {
      "text/latex": [
       "$\\displaystyle \\left[\\begin{matrix}i c^{2} A_{0}{\\left(\\mathbf{t},\\mathbf{x},\\mathbf{y},\\mathbf{z} \\right)} e^{i c^{2} S{\\left(\\mathbf{t},\\mathbf{x},\\mathbf{y},\\mathbf{z} \\right)}} \\left. \\frac{d}{d \\xi} S{\\left(\\xi,\\mathbf{x},\\mathbf{y},\\mathbf{z} \\right)} \\right|_{\\substack{ \\xi=\\mathbf{t} }} + i c A_{1}{\\left(\\mathbf{t},\\mathbf{x},\\mathbf{y},\\mathbf{z} \\right)} e^{i c^{2} S{\\left(\\mathbf{t},\\mathbf{x},\\mathbf{y},\\mathbf{z} \\right)}} \\left. \\frac{d}{d \\xi} S{\\left(\\xi,\\mathbf{x},\\mathbf{y},\\mathbf{z} \\right)} \\right|_{\\substack{ \\xi=\\mathbf{t} }} + i A_{2}{\\left(\\mathbf{t},\\mathbf{x},\\mathbf{y},\\mathbf{z} \\right)} e^{i c^{2} S{\\left(\\mathbf{t},\\mathbf{x},\\mathbf{y},\\mathbf{z} \\right)}} \\left. \\frac{d}{d \\xi} S{\\left(\\xi,\\mathbf{x},\\mathbf{y},\\mathbf{z} \\right)} \\right|_{\\substack{ \\xi=\\mathbf{t} }} + e^{i c^{2} S{\\left(\\mathbf{t},\\mathbf{x},\\mathbf{y},\\mathbf{z} \\right)}} \\left. \\frac{d}{d \\xi} A_{0}{\\left(\\xi,\\mathbf{x},\\mathbf{y},\\mathbf{z} \\right)} \\right|_{\\substack{ \\xi=\\mathbf{t} }} + \\frac{i A_{3}{\\left(\\mathbf{t},\\mathbf{x},\\mathbf{y},\\mathbf{z} \\right)} e^{i c^{2} S{\\left(\\mathbf{t},\\mathbf{x},\\mathbf{y},\\mathbf{z} \\right)}} \\left. \\frac{d}{d \\xi} S{\\left(\\xi,\\mathbf{x},\\mathbf{y},\\mathbf{z} \\right)} \\right|_{\\substack{ \\xi=\\mathbf{t} }}}{c} + \\frac{e^{i c^{2} S{\\left(\\mathbf{t},\\mathbf{x},\\mathbf{y},\\mathbf{z} \\right)}} \\left. \\frac{d}{d \\xi} A_{1}{\\left(\\xi,\\mathbf{x},\\mathbf{y},\\mathbf{z} \\right)} \\right|_{\\substack{ \\xi=\\mathbf{t} }}}{c} + \\frac{e^{i c^{2} S{\\left(\\mathbf{t},\\mathbf{x},\\mathbf{y},\\mathbf{z} \\right)}} \\left. \\frac{d}{d \\xi} A_{2}{\\left(\\xi,\\mathbf{x},\\mathbf{y},\\mathbf{z} \\right)} \\right|_{\\substack{ \\xi=\\mathbf{t} }}}{c^{2}} + \\frac{e^{i c^{2} S{\\left(\\mathbf{t},\\mathbf{x},\\mathbf{y},\\mathbf{z} \\right)}} \\left. \\frac{d}{d \\xi} A_{3}{\\left(\\xi,\\mathbf{x},\\mathbf{y},\\mathbf{z} \\right)} \\right|_{\\substack{ \\xi=\\mathbf{t} }}}{c^{3}} & 0 & 0 & 0\\\\i c^{2} A_{0}{\\left(\\mathbf{t},\\mathbf{x},\\mathbf{y},\\mathbf{z} \\right)} e^{i c^{2} S{\\left(\\mathbf{t},\\mathbf{x},\\mathbf{y},\\mathbf{z} \\right)}} \\left. \\frac{d}{d \\xi} S{\\left(\\mathbf{t},\\xi,\\mathbf{y},\\mathbf{z} \\right)} \\right|_{\\substack{ \\xi=\\mathbf{x} }} + i c A_{1}{\\left(\\mathbf{t},\\mathbf{x},\\mathbf{y},\\mathbf{z} \\right)} e^{i c^{2} S{\\left(\\mathbf{t},\\mathbf{x},\\mathbf{y},\\mathbf{z} \\right)}} \\left. \\frac{d}{d \\xi} S{\\left(\\mathbf{t},\\xi,\\mathbf{y},\\mathbf{z} \\right)} \\right|_{\\substack{ \\xi=\\mathbf{x} }} + i A_{2}{\\left(\\mathbf{t},\\mathbf{x},\\mathbf{y},\\mathbf{z} \\right)} e^{i c^{2} S{\\left(\\mathbf{t},\\mathbf{x},\\mathbf{y},\\mathbf{z} \\right)}} \\left. \\frac{d}{d \\xi} S{\\left(\\mathbf{t},\\xi,\\mathbf{y},\\mathbf{z} \\right)} \\right|_{\\substack{ \\xi=\\mathbf{x} }} + e^{i c^{2} S{\\left(\\mathbf{t},\\mathbf{x},\\mathbf{y},\\mathbf{z} \\right)}} \\left. \\frac{d}{d \\xi} A_{0}{\\left(\\mathbf{t},\\xi,\\mathbf{y},\\mathbf{z} \\right)} \\right|_{\\substack{ \\xi=\\mathbf{x} }} + \\frac{i A_{3}{\\left(\\mathbf{t},\\mathbf{x},\\mathbf{y},\\mathbf{z} \\right)} e^{i c^{2} S{\\left(\\mathbf{t},\\mathbf{x},\\mathbf{y},\\mathbf{z} \\right)}} \\left. \\frac{d}{d \\xi} S{\\left(\\mathbf{t},\\xi,\\mathbf{y},\\mathbf{z} \\right)} \\right|_{\\substack{ \\xi=\\mathbf{x} }}}{c} + \\frac{e^{i c^{2} S{\\left(\\mathbf{t},\\mathbf{x},\\mathbf{y},\\mathbf{z} \\right)}} \\left. \\frac{d}{d \\xi} A_{1}{\\left(\\mathbf{t},\\xi,\\mathbf{y},\\mathbf{z} \\right)} \\right|_{\\substack{ \\xi=\\mathbf{x} }}}{c} + \\frac{e^{i c^{2} S{\\left(\\mathbf{t},\\mathbf{x},\\mathbf{y},\\mathbf{z} \\right)}} \\left. \\frac{d}{d \\xi} A_{2}{\\left(\\mathbf{t},\\xi,\\mathbf{y},\\mathbf{z} \\right)} \\right|_{\\substack{ \\xi=\\mathbf{x} }}}{c^{2}} + \\frac{e^{i c^{2} S{\\left(\\mathbf{t},\\mathbf{x},\\mathbf{y},\\mathbf{z} \\right)}} \\left. \\frac{d}{d \\xi} A_{3}{\\left(\\mathbf{t},\\xi,\\mathbf{y},\\mathbf{z} \\right)} \\right|_{\\substack{ \\xi=\\mathbf{x} }}}{c^{3}} & 0 & 0 & 0\\\\i c^{2} A_{0}{\\left(\\mathbf{t},\\mathbf{x},\\mathbf{y},\\mathbf{z} \\right)} e^{i c^{2} S{\\left(\\mathbf{t},\\mathbf{x},\\mathbf{y},\\mathbf{z} \\right)}} \\left. \\frac{d}{d \\xi} S{\\left(\\mathbf{t},\\mathbf{x},\\xi,\\mathbf{z} \\right)} \\right|_{\\substack{ \\xi=\\mathbf{y} }} + i c A_{1}{\\left(\\mathbf{t},\\mathbf{x},\\mathbf{y},\\mathbf{z} \\right)} e^{i c^{2} S{\\left(\\mathbf{t},\\mathbf{x},\\mathbf{y},\\mathbf{z} \\right)}} \\left. \\frac{d}{d \\xi} S{\\left(\\mathbf{t},\\mathbf{x},\\xi,\\mathbf{z} \\right)} \\right|_{\\substack{ \\xi=\\mathbf{y} }} + i A_{2}{\\left(\\mathbf{t},\\mathbf{x},\\mathbf{y},\\mathbf{z} \\right)} e^{i c^{2} S{\\left(\\mathbf{t},\\mathbf{x},\\mathbf{y},\\mathbf{z} \\right)}} \\left. \\frac{d}{d \\xi} S{\\left(\\mathbf{t},\\mathbf{x},\\xi,\\mathbf{z} \\right)} \\right|_{\\substack{ \\xi=\\mathbf{y} }} + e^{i c^{2} S{\\left(\\mathbf{t},\\mathbf{x},\\mathbf{y},\\mathbf{z} \\right)}} \\left. \\frac{d}{d \\xi} A_{0}{\\left(\\mathbf{t},\\mathbf{x},\\xi,\\mathbf{z} \\right)} \\right|_{\\substack{ \\xi=\\mathbf{y} }} + \\frac{i A_{3}{\\left(\\mathbf{t},\\mathbf{x},\\mathbf{y},\\mathbf{z} \\right)} e^{i c^{2} S{\\left(\\mathbf{t},\\mathbf{x},\\mathbf{y},\\mathbf{z} \\right)}} \\left. \\frac{d}{d \\xi} S{\\left(\\mathbf{t},\\mathbf{x},\\xi,\\mathbf{z} \\right)} \\right|_{\\substack{ \\xi=\\mathbf{y} }}}{c} + \\frac{e^{i c^{2} S{\\left(\\mathbf{t},\\mathbf{x},\\mathbf{y},\\mathbf{z} \\right)}} \\left. \\frac{d}{d \\xi} A_{1}{\\left(\\mathbf{t},\\mathbf{x},\\xi,\\mathbf{z} \\right)} \\right|_{\\substack{ \\xi=\\mathbf{y} }}}{c} + \\frac{e^{i c^{2} S{\\left(\\mathbf{t},\\mathbf{x},\\mathbf{y},\\mathbf{z} \\right)}} \\left. \\frac{d}{d \\xi} A_{2}{\\left(\\mathbf{t},\\mathbf{x},\\xi,\\mathbf{z} \\right)} \\right|_{\\substack{ \\xi=\\mathbf{y} }}}{c^{2}} + \\frac{e^{i c^{2} S{\\left(\\mathbf{t},\\mathbf{x},\\mathbf{y},\\mathbf{z} \\right)}} \\left. \\frac{d}{d \\xi} A_{3}{\\left(\\mathbf{t},\\mathbf{x},\\xi,\\mathbf{z} \\right)} \\right|_{\\substack{ \\xi=\\mathbf{y} }}}{c^{3}} & 0 & 0 & 0\\\\i c^{2} A_{0}{\\left(\\mathbf{t},\\mathbf{x},\\mathbf{y},\\mathbf{z} \\right)} e^{i c^{2} S{\\left(\\mathbf{t},\\mathbf{x},\\mathbf{y},\\mathbf{z} \\right)}} \\left. \\frac{d}{d \\xi} S{\\left(\\mathbf{t},\\mathbf{x},\\mathbf{y},\\xi \\right)} \\right|_{\\substack{ \\xi=\\mathbf{z} }} + i c A_{1}{\\left(\\mathbf{t},\\mathbf{x},\\mathbf{y},\\mathbf{z} \\right)} e^{i c^{2} S{\\left(\\mathbf{t},\\mathbf{x},\\mathbf{y},\\mathbf{z} \\right)}} \\left. \\frac{d}{d \\xi} S{\\left(\\mathbf{t},\\mathbf{x},\\mathbf{y},\\xi \\right)} \\right|_{\\substack{ \\xi=\\mathbf{z} }} + i A_{2}{\\left(\\mathbf{t},\\mathbf{x},\\mathbf{y},\\mathbf{z} \\right)} e^{i c^{2} S{\\left(\\mathbf{t},\\mathbf{x},\\mathbf{y},\\mathbf{z} \\right)}} \\left. \\frac{d}{d \\xi} S{\\left(\\mathbf{t},\\mathbf{x},\\mathbf{y},\\xi \\right)} \\right|_{\\substack{ \\xi=\\mathbf{z} }} + e^{i c^{2} S{\\left(\\mathbf{t},\\mathbf{x},\\mathbf{y},\\mathbf{z} \\right)}} \\left. \\frac{d}{d \\xi} A_{0}{\\left(\\mathbf{t},\\mathbf{x},\\mathbf{y},\\xi \\right)} \\right|_{\\substack{ \\xi=\\mathbf{z} }} + \\frac{i A_{3}{\\left(\\mathbf{t},\\mathbf{x},\\mathbf{y},\\mathbf{z} \\right)} e^{i c^{2} S{\\left(\\mathbf{t},\\mathbf{x},\\mathbf{y},\\mathbf{z} \\right)}} \\left. \\frac{d}{d \\xi} S{\\left(\\mathbf{t},\\mathbf{x},\\mathbf{y},\\xi \\right)} \\right|_{\\substack{ \\xi=\\mathbf{z} }}}{c} + \\frac{e^{i c^{2} S{\\left(\\mathbf{t},\\mathbf{x},\\mathbf{y},\\mathbf{z} \\right)}} \\left. \\frac{d}{d \\xi} A_{1}{\\left(\\mathbf{t},\\mathbf{x},\\mathbf{y},\\xi \\right)} \\right|_{\\substack{ \\xi=\\mathbf{z} }}}{c} + \\frac{e^{i c^{2} S{\\left(\\mathbf{t},\\mathbf{x},\\mathbf{y},\\mathbf{z} \\right)}} \\left. \\frac{d}{d \\xi} A_{2}{\\left(\\mathbf{t},\\mathbf{x},\\mathbf{y},\\xi \\right)} \\right|_{\\substack{ \\xi=\\mathbf{z} }}}{c^{2}} + \\frac{e^{i c^{2} S{\\left(\\mathbf{t},\\mathbf{x},\\mathbf{y},\\mathbf{z} \\right)}} \\left. \\frac{d}{d \\xi} A_{3}{\\left(\\mathbf{t},\\mathbf{x},\\mathbf{y},\\xi \\right)} \\right|_{\\substack{ \\xi=\\mathbf{z} }}}{c^{3}} & 0 & 0 & 0\\end{matrix}\\right]$"
      ],
      "text/plain": [
       "[[I*c**2*A0(t, x, y, z)*exp(I*c**2*S(t, x, y, z))*Subs(Derivative(S(_xi, x, y, z), _xi), _xi, t) + I*c*A1(t, x, y, z)*exp(I*c**2*S(t, x, y, z))*Subs(Derivative(S(_xi, x, y, z), _xi), _xi, t) + I*A2(t, x, y, z)*exp(I*c**2*S(t, x, y, z))*Subs(Derivative(S(_xi, x, y, z), _xi), _xi, t) + exp(I*c**2*S(t, x, y, z))*Subs(Derivative(A0(_xi, x, y, z), _xi), _xi, t) + I*A3(t, x, y, z)*exp(I*c**2*S(t, x, y, z))*Subs(Derivative(S(_xi, x, y, z), _xi), _xi, t)/c + exp(I*c**2*S(t, x, y, z))*Subs(Derivative(A1(_xi, x, y, z), _xi), _xi, t)/c + exp(I*c**2*S(t, x, y, z))*Subs(Derivative(A2(_xi, x, y, z), _xi), _xi, t)/c**2 + exp(I*c**2*S(t, x, y, z))*Subs(Derivative(A3(_xi, x, y, z), _xi), _xi, t)/c**3, 0, 0, 0], [I*c**2*A0(t, x, y, z)*exp(I*c**2*S(t, x, y, z))*Subs(Derivative(S(t, _xi, y, z), _xi), _xi, x) + I*c*A1(t, x, y, z)*exp(I*c**2*S(t, x, y, z))*Subs(Derivative(S(t, _xi, y, z), _xi), _xi, x) + I*A2(t, x, y, z)*exp(I*c**2*S(t, x, y, z))*Subs(Derivative(S(t, _xi, y, z), _xi), _xi, x) + exp(I*c**2*S(t, x, y, z))*Subs(Derivative(A0(t, _xi, y, z), _xi), _xi, x) + I*A3(t, x, y, z)*exp(I*c**2*S(t, x, y, z))*Subs(Derivative(S(t, _xi, y, z), _xi), _xi, x)/c + exp(I*c**2*S(t, x, y, z))*Subs(Derivative(A1(t, _xi, y, z), _xi), _xi, x)/c + exp(I*c**2*S(t, x, y, z))*Subs(Derivative(A2(t, _xi, y, z), _xi), _xi, x)/c**2 + exp(I*c**2*S(t, x, y, z))*Subs(Derivative(A3(t, _xi, y, z), _xi), _xi, x)/c**3, 0, 0, 0], [I*c**2*A0(t, x, y, z)*exp(I*c**2*S(t, x, y, z))*Subs(Derivative(S(t, x, _xi, z), _xi), _xi, y) + I*c*A1(t, x, y, z)*exp(I*c**2*S(t, x, y, z))*Subs(Derivative(S(t, x, _xi, z), _xi), _xi, y) + I*A2(t, x, y, z)*exp(I*c**2*S(t, x, y, z))*Subs(Derivative(S(t, x, _xi, z), _xi), _xi, y) + exp(I*c**2*S(t, x, y, z))*Subs(Derivative(A0(t, x, _xi, z), _xi), _xi, y) + I*A3(t, x, y, z)*exp(I*c**2*S(t, x, y, z))*Subs(Derivative(S(t, x, _xi, z), _xi), _xi, y)/c + exp(I*c**2*S(t, x, y, z))*Subs(Derivative(A1(t, x, _xi, z), _xi), _xi, y)/c + exp(I*c**2*S(t, x, y, z))*Subs(Derivative(A2(t, x, _xi, z), _xi), _xi, y)/c**2 + exp(I*c**2*S(t, x, y, z))*Subs(Derivative(A3(t, x, _xi, z), _xi), _xi, y)/c**3, 0, 0, 0], [I*c**2*A0(t, x, y, z)*exp(I*c**2*S(t, x, y, z))*Subs(Derivative(S(t, x, y, _xi), _xi), _xi, z) + I*c*A1(t, x, y, z)*exp(I*c**2*S(t, x, y, z))*Subs(Derivative(S(t, x, y, _xi), _xi), _xi, z) + I*A2(t, x, y, z)*exp(I*c**2*S(t, x, y, z))*Subs(Derivative(S(t, x, y, _xi), _xi), _xi, z) + exp(I*c**2*S(t, x, y, z))*Subs(Derivative(A0(t, x, y, _xi), _xi), _xi, z) + I*A3(t, x, y, z)*exp(I*c**2*S(t, x, y, z))*Subs(Derivative(S(t, x, y, _xi), _xi), _xi, z)/c + exp(I*c**2*S(t, x, y, z))*Subs(Derivative(A1(t, x, y, _xi), _xi), _xi, z)/c + exp(I*c**2*S(t, x, y, z))*Subs(Derivative(A2(t, x, y, _xi), _xi), _xi, z)/c**2 + exp(I*c**2*S(t, x, y, z))*Subs(Derivative(A3(t, x, y, _xi), _xi), _xi, z)/c**3, 0, 0, 0]]"
      ]
     },
     "execution_count": 15,
     "metadata": {},
     "output_type": "execute_result"
    }
   ],
   "source": [
    "partial_derivative(psi, T)"
   ]
  },
  {
   "cell_type": "code",
   "execution_count": null,
   "id": "9fefb487-d5e2-4083-af46-6cccedb2c8c4",
   "metadata": {},
   "outputs": [],
   "source": []
  },
  {
   "cell_type": "code",
   "execution_count": null,
   "id": "b711f18f-2095-40e8-9847-8cf34bed6dfd",
   "metadata": {},
   "outputs": [],
   "source": []
  }
 ],
 "metadata": {
  "kernelspec": {
   "display_name": "Python 3 (ipykernel)",
   "language": "python",
   "name": "python3"
  },
  "language_info": {
   "codemirror_mode": {
    "name": "ipython",
    "version": 3
   },
   "file_extension": ".py",
   "mimetype": "text/x-python",
   "name": "python",
   "nbconvert_exporter": "python",
   "pygments_lexer": "ipython3",
   "version": "3.11.7"
  }
 },
 "nbformat": 4,
 "nbformat_minor": 5
}
