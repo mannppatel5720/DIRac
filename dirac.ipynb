{
 "cells": [
  {
   "cell_type": "code",
   "execution_count": 1,
   "id": "feed7cd4",
   "metadata": {},
   "outputs": [],
   "source": [
    "import sympy as sym \n",
    "import math\n",
    "import cmath\n",
    "import cython as cp\n",
    "import numpy as np\n",
    "import pytearcat as pt\n"
   ]
  },
  {
   "cell_type": "code",
   "execution_count": 2,
   "id": "b34a50f8",
   "metadata": {},
   "outputs": [],
   "source": [
    "from sympy import *"
   ]
  },
  {
   "cell_type": "code",
   "execution_count": 3,
   "id": "80c6e673-70c4-41b8-aa19-74c648cfe0cb",
   "metadata": {},
   "outputs": [],
   "source": [
    "from sympy.physics import *\n",
    "from sympy.tensor.tensor import *\n",
    "from sympy.physics.hep.gamma_matrices import GammaMatrix as G, LorentzIndex"
   ]
  },
  {
   "cell_type": "code",
   "execution_count": 4,
   "id": "096af3c4",
   "metadata": {},
   "outputs": [],
   "source": [
    " n, m, c = symbols('n m c', integer=True)"
   ]
  },
  {
   "cell_type": "code",
   "execution_count": null,
   "id": "4bf26f06-bd47-4f9e-9bf5-b67a79425ff7",
   "metadata": {},
   "outputs": [],
   "source": []
  },
  {
   "cell_type": "code",
   "execution_count": 5,
   "id": "70e085ac",
   "metadata": {},
   "outputs": [],
   "source": [
    "i, j = symbols('i j', cls=Idx)"
   ]
  },
  {
   "cell_type": "code",
   "execution_count": null,
   "id": "806a5d82-4517-4b29-82ca-79802dbf96ae",
   "metadata": {},
   "outputs": [],
   "source": []
  },
  {
   "cell_type": "code",
   "execution_count": 6,
   "id": "caa7d21c-7dea-40a3-aa44-72fabcf481b6",
   "metadata": {},
   "outputs": [
    {
     "data": {
      "text/plain": [
       "(t, x, y, z)"
      ]
     },
     "execution_count": 6,
     "metadata": {},
     "output_type": "execute_result"
    }
   ],
   "source": [
    "var('t, x, y, z,', real=True)"
   ]
  },
  {
   "cell_type": "code",
   "execution_count": 7,
   "id": "37b95482",
   "metadata": {},
   "outputs": [],
   "source": [
    "phi = symbols('phi')\n",
    "\n",
    "phi\n",
    "S= Function('S')(t,x,y,z)"
   ]
  },
  {
   "cell_type": "code",
   "execution_count": 8,
   "id": "ee59522c-8d02-4321-b22d-abb356083548",
   "metadata": {},
   "outputs": [],
   "source": [
    "A0= Function('A0')\n",
    "A1= Function('A1')\n",
    "A2= Function('A2')\n",
    "A3= Function('A3')\n",
    "A4= Function('A4')\n",
    "A5= Function('A5')"
   ]
  },
  {
   "cell_type": "code",
   "execution_count": 9,
   "id": "5ef6c729-e2bb-4d7d-8d5a-f21b2d309ce7",
   "metadata": {},
   "outputs": [],
   "source": [
    "A=(A0, A1, A2, A3, A4, A5)\n",
    "indices = [0, 1, 2, 3, 4]\n"
   ]
  },
  {
   "cell_type": "code",
   "execution_count": 10,
   "id": "dcb52398-93a7-40e7-939b-284f3a3268d2",
   "metadata": {},
   "outputs": [
    {
     "data": {
      "text/plain": [
       "(A0, A1, A2, A3, A4, A5)"
      ]
     },
     "execution_count": 10,
     "metadata": {},
     "output_type": "execute_result"
    }
   ],
   "source": [
    "A"
   ]
  },
  {
   "cell_type": "code",
   "execution_count": 11,
   "id": "cd6cfb07-26c5-4202-bc12-ce610b952001",
   "metadata": {},
   "outputs": [
    {
     "data": {
      "text/latex": [
       "$\\displaystyle \\phi$"
      ],
      "text/plain": [
       "phi"
      ]
     },
     "execution_count": 11,
     "metadata": {},
     "output_type": "execute_result"
    }
   ],
   "source": [
    "phi"
   ]
  },
  {
   "cell_type": "code",
   "execution_count": 12,
   "id": "ae135431-1dfc-4b86-9def-bd32fba1b7e1",
   "metadata": {},
   "outputs": [],
   "source": [
    "phi = 0\n",
    "for k in indices:\n",
    "    m= exp(I*S*c**(2))*(A[k](t,x,y,z)*c**(-k))\n",
    "    phi = phi +m"
   ]
  },
  {
   "cell_type": "code",
   "execution_count": 13,
   "id": "e92f534e-faae-4f87-96c1-9a819f99158f",
   "metadata": {},
   "outputs": [
    {
     "data": {
      "text/latex": [
       "$\\displaystyle A_{0}{\\left(t,x,y,z \\right)} e^{i c^{2} S{\\left(t,x,y,z \\right)}} + \\frac{A_{1}{\\left(t,x,y,z \\right)} e^{i c^{2} S{\\left(t,x,y,z \\right)}}}{c} + \\frac{A_{2}{\\left(t,x,y,z \\right)} e^{i c^{2} S{\\left(t,x,y,z \\right)}}}{c^{2}} + \\frac{A_{3}{\\left(t,x,y,z \\right)} e^{i c^{2} S{\\left(t,x,y,z \\right)}}}{c^{3}} + \\frac{A_{4}{\\left(t,x,y,z \\right)} e^{i c^{2} S{\\left(t,x,y,z \\right)}}}{c^{4}}$"
      ],
      "text/plain": [
       "A0(t, x, y, z)*exp(I*c**2*S(t, x, y, z)) + A1(t, x, y, z)*exp(I*c**2*S(t, x, y, z))/c + A2(t, x, y, z)*exp(I*c**2*S(t, x, y, z))/c**2 + A3(t, x, y, z)*exp(I*c**2*S(t, x, y, z))/c**3 + A4(t, x, y, z)*exp(I*c**2*S(t, x, y, z))/c**4"
      ]
     },
     "execution_count": 13,
     "metadata": {},
     "output_type": "execute_result"
    }
   ],
   "source": [
    "phi"
   ]
  },
  {
   "cell_type": "code",
   "execution_count": 14,
   "id": "d4b20b33",
   "metadata": {},
   "outputs": [],
   "source": [
    "chi = 0\n",
    "for k in indices:\n",
    "    m= exp(-I*S*c**(2))*(A[k](t,x,y,z)*c**(-k))\n",
    "    chi = chi +m"
   ]
  },
  {
   "cell_type": "code",
   "execution_count": 15,
   "id": "c1dd0b9a-6700-481d-8cbe-f2d70c3e014e",
   "metadata": {},
   "outputs": [
    {
     "data": {
      "text/latex": [
       "$\\displaystyle i c^{2} A_{0}{\\left(t,x,y,z \\right)} e^{i c^{2} S{\\left(t,x,y,z \\right)}} \\frac{\\partial}{\\partial x} S{\\left(t,x,y,z \\right)} + i c A_{1}{\\left(t,x,y,z \\right)} e^{i c^{2} S{\\left(t,x,y,z \\right)}} \\frac{\\partial}{\\partial x} S{\\left(t,x,y,z \\right)} + i A_{2}{\\left(t,x,y,z \\right)} e^{i c^{2} S{\\left(t,x,y,z \\right)}} \\frac{\\partial}{\\partial x} S{\\left(t,x,y,z \\right)} + e^{i c^{2} S{\\left(t,x,y,z \\right)}} \\frac{\\partial}{\\partial x} A_{0}{\\left(t,x,y,z \\right)} + \\frac{i A_{3}{\\left(t,x,y,z \\right)} e^{i c^{2} S{\\left(t,x,y,z \\right)}} \\frac{\\partial}{\\partial x} S{\\left(t,x,y,z \\right)}}{c} + \\frac{e^{i c^{2} S{\\left(t,x,y,z \\right)}} \\frac{\\partial}{\\partial x} A_{1}{\\left(t,x,y,z \\right)}}{c} + \\frac{i A_{4}{\\left(t,x,y,z \\right)} e^{i c^{2} S{\\left(t,x,y,z \\right)}} \\frac{\\partial}{\\partial x} S{\\left(t,x,y,z \\right)}}{c^{2}} + \\frac{e^{i c^{2} S{\\left(t,x,y,z \\right)}} \\frac{\\partial}{\\partial x} A_{2}{\\left(t,x,y,z \\right)}}{c^{2}} + \\frac{e^{i c^{2} S{\\left(t,x,y,z \\right)}} \\frac{\\partial}{\\partial x} A_{3}{\\left(t,x,y,z \\right)}}{c^{3}} + \\frac{e^{i c^{2} S{\\left(t,x,y,z \\right)}} \\frac{\\partial}{\\partial x} A_{4}{\\left(t,x,y,z \\right)}}{c^{4}}$"
      ],
      "text/plain": [
       "I*c**2*A0(t, x, y, z)*exp(I*c**2*S(t, x, y, z))*Derivative(S(t, x, y, z), x) + I*c*A1(t, x, y, z)*exp(I*c**2*S(t, x, y, z))*Derivative(S(t, x, y, z), x) + I*A2(t, x, y, z)*exp(I*c**2*S(t, x, y, z))*Derivative(S(t, x, y, z), x) + exp(I*c**2*S(t, x, y, z))*Derivative(A0(t, x, y, z), x) + I*A3(t, x, y, z)*exp(I*c**2*S(t, x, y, z))*Derivative(S(t, x, y, z), x)/c + exp(I*c**2*S(t, x, y, z))*Derivative(A1(t, x, y, z), x)/c + I*A4(t, x, y, z)*exp(I*c**2*S(t, x, y, z))*Derivative(S(t, x, y, z), x)/c**2 + exp(I*c**2*S(t, x, y, z))*Derivative(A2(t, x, y, z), x)/c**2 + exp(I*c**2*S(t, x, y, z))*Derivative(A3(t, x, y, z), x)/c**3 + exp(I*c**2*S(t, x, y, z))*Derivative(A4(t, x, y, z), x)/c**4"
      ]
     },
     "execution_count": 15,
     "metadata": {},
     "output_type": "execute_result"
    }
   ],
   "source": [
    "diff(phi,x)"
   ]
  },
  {
   "cell_type": "code",
   "execution_count": 16,
   "id": "e3cf2129-e836-46b3-951e-b17309f0f981",
   "metadata": {},
   "outputs": [],
   "source": [
    "Lorentz = TensorIndexType('Lorentz', dummy_name='L', dim=4, eps_dim=4, metric_symmetry=0, metric_name='metric')\n",
    "mu = TensorIndex('mu', Lorentz, is_up=False)\n",
    "nu, rho = tensor_indices('nu, rho', Lorentz)\n"
   ]
  },
  {
   "cell_type": "code",
   "execution_count": 17,
   "id": "712a623f-4edf-4f2c-aedf-3b213ffb045f",
   "metadata": {},
   "outputs": [
    {
     "data": {
      "text/latex": [
       "$\\displaystyle GammaMatrix{}^{\\nu}$"
      ],
      "text/plain": [
       "GammaMatrix(nu)"
      ]
     },
     "execution_count": 17,
     "metadata": {},
     "output_type": "execute_result"
    }
   ],
   "source": [
    "G(nu)"
   ]
  },
  {
   "cell_type": "code",
   "execution_count": null,
   "id": "e0ee42e9-4ba6-40eb-9012-52070adf133f",
   "metadata": {},
   "outputs": [],
   "source": []
  },
  {
   "cell_type": "code",
   "execution_count": null,
   "id": "87a11e46-bcc5-4dd1-be5c-e4193db8bf99",
   "metadata": {},
   "outputs": [],
   "source": []
  }
 ],
 "metadata": {
  "kernelspec": {
   "display_name": "Python 3 (ipykernel)",
   "language": "python",
   "name": "python3"
  },
  "language_info": {
   "codemirror_mode": {
    "name": "ipython",
    "version": 3
   },
   "file_extension": ".py",
   "mimetype": "text/x-python",
   "name": "python",
   "nbconvert_exporter": "python",
   "pygments_lexer": "ipython3",
   "version": "3.11.7"
  }
 },
 "nbformat": 4,
 "nbformat_minor": 5
}
